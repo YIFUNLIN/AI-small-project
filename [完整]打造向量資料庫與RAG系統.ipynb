{
  "nbformat": 4,
  "nbformat_minor": 0,
  "metadata": {
    "colab": {
      "provenance": [],
      "gpuType": "T4",
      "private_outputs": true
    },
    "kernelspec": {
      "name": "python3",
      "display_name": "Python 3"
    },
    "language_info": {
      "name": "python"
    },
    "accelerator": "GPU"
  },
  "cells": [
    {
      "cell_type": "markdown",
      "source": [
        "先準備好要做RAG資料，.pdf .txt .docx都可以！\n",
        "\n",
        "找好之後先執行以下程式，去建立資料夾"
      ],
      "metadata": {
        "id": "9z16UWbCuDf5"
      }
    },
    {
      "cell_type": "markdown",
      "source": [
        "### 1. 建立資料夾"
      ],
      "metadata": {
        "id": "2x0CkPdF8O4n"
      }
    },
    {
      "cell_type": "code",
      "execution_count": null,
      "metadata": {
        "id": "Gfq9Ca9C71vz"
      },
      "outputs": [],
      "source": [
        "import os\n",
        "upload_dir = \"uploaded_docs\"\n",
        "os.makedirs(upload_dir, exist_ok=True)\n",
        "print(f\"請將你的 .txt, .pdf, .docx 檔案放到這個資料夾中： {upload_dir}\")"
      ]
    },
    {
      "cell_type": "markdown",
      "source": [
        "建立完後，請手動上傳該檔案到資料夾中\n",
        "\n",
        "切記一定要丟進去新建立的資料夾中，之後才讀得到以下設置好的路徑！"
      ],
      "metadata": {
        "id": "T710yZTaILrK"
      }
    },
    {
      "cell_type": "markdown",
      "source": [
        "### 2. 更新必要套件並引入"
      ],
      "metadata": {
        "id": "xyEPtSec8XHm"
      }
    },
    {
      "cell_type": "code",
      "source": [
        "!pip install -U langchain langchain-community pypdf python-docx sentence-transformers faiss-cpu"
      ],
      "metadata": {
        "id": "mWVwCLE49l2F"
      },
      "execution_count": null,
      "outputs": []
    },
    {
      "cell_type": "code",
      "source": [
        "from langchain_community.document_loaders import TextLoader, PyPDFLoader, UnstructuredWordDocumentLoader\n",
        "from langchain.text_splitter import RecursiveCharacterTextSplitter\n",
        "from langchain.embeddings import HuggingFaceEmbeddings\n",
        "from langchain.vectorstores import FAISS"
      ],
      "metadata": {
        "id": "vl3FTfQM8VE1"
      },
      "execution_count": null,
      "outputs": []
    },
    {
      "cell_type": "markdown",
      "source": [
        "### 3. 依 e5 建議加入\n",
        "\n",
        "自訂支援 E5 的 embedding 模型（加上 \"passage:\" / \"query:\" 前綴）"
      ],
      "metadata": {
        "id": "BQVRqMsu-V78"
      }
    },
    {
      "cell_type": "code",
      "source": [
        "from langchain.embeddings import HuggingFaceEmbeddings\n",
        "\n",
        "class CustomE5Embedding(HuggingFaceEmbeddings):\n",
        "    def embed_documents(self, texts):\n",
        "        texts = [f\"passage: {t}\" for t in texts]\n",
        "        return super().embed_documents(texts)\n",
        "\n",
        "    def embed_query(self, text):\n",
        "        return super().embed_query(f\"query: {text}\")"
      ],
      "metadata": {
        "id": "Hs3YZvis9CiJ"
      },
      "execution_count": null,
      "outputs": []
    },
    {
      "cell_type": "markdown",
      "source": [
        "### 4. 載入文件"
      ],
      "metadata": {
        "id": "jmWZud76-jRt"
      }
    },
    {
      "cell_type": "code",
      "source": [
        "folder_path = upload_dir\n",
        "documents = []\n",
        "for file in os.listdir(folder_path):\n",
        "    path = os.path.join(folder_path, file)\n",
        "    if file.endswith(\".txt\"):\n",
        "        loader = TextLoader(path)\n",
        "    elif file.endswith(\".pdf\"):\n",
        "        loader = PyPDFLoader(path)\n",
        "    elif file.endswith(\".docx\"):\n",
        "        loader = UnstructuredWordDocumentLoader(path)\n",
        "    else:\n",
        "        continue\n",
        "    documents.extend(loader.load())"
      ],
      "metadata": {
        "id": "cfZPj3Oo-fPZ"
      },
      "execution_count": null,
      "outputs": []
    },
    {
      "cell_type": "code",
      "source": [
        "print(documents)"
      ],
      "metadata": {
        "id": "eedBvhfXzriG"
      },
      "execution_count": null,
      "outputs": []
    },
    {
      "cell_type": "markdown",
      "source": [
        "### 5. 建立向量資料庫"
      ],
      "metadata": {
        "id": "wvg1cAwn-rLC"
      }
    },
    {
      "cell_type": "code",
      "source": [
        "splitter = RecursiveCharacterTextSplitter(chunk_size=500, chunk_overlap=100)\n",
        "split_docs = splitter.split_documents(documents)"
      ],
      "metadata": {
        "id": "EMke5c4n-m1s"
      },
      "execution_count": null,
      "outputs": []
    },
    {
      "cell_type": "code",
      "source": [
        "embedding_model = CustomE5Embedding(model_name=\"intfloat/multilingual-e5-small\")\n",
        "vectorstore = FAISS.from_documents(split_docs, embedding_model)"
      ],
      "metadata": {
        "id": "RZqJOiaE-vrI"
      },
      "execution_count": null,
      "outputs": []
    },
    {
      "cell_type": "markdown",
      "source": [
        "### 6. 儲存向量資料庫"
      ],
      "metadata": {
        "id": "dqvR4i8Y-5du"
      }
    },
    {
      "cell_type": "code",
      "source": [
        "vectorstore.save_local(\"faiss_db\")"
      ],
      "metadata": {
        "id": "KxdIhkku-2Zf"
      },
      "execution_count": null,
      "outputs": []
    },
    {
      "cell_type": "code",
      "source": [
        "!zip -r faiss_db.zip faiss_db"
      ],
      "metadata": {
        "id": "Pw23tkEKUfPW"
      },
      "execution_count": null,
      "outputs": []
    },
    {
      "cell_type": "code",
      "source": [
        "print(\"✅ 壓縮好的向量資料庫已儲存為 'faiss_db.zip'，請下載此檔案備份。\")"
      ],
      "metadata": {
        "id": "vCiRAlnrVUCJ"
      },
      "execution_count": null,
      "outputs": []
    },
    {
      "cell_type": "markdown",
      "source": [
        "再把這個檔案先丟到Drive上，並設成公開，複製其URL\n",
        "\n",
        "再使用 [Google Drive Direct Link Generator](IwZXh0bgNhZW0CMTAAAR5ji3w5J7kt2m2qRX7KXWKUKrxKVIj5nqQP5xKQb7fa2hHp97uh2DfpVmO07Q_aem_QX9JsZTBwEnvmiXwQtpC0g) 將剛剛的URL 進行轉換\n",
        "\n"
      ],
      "metadata": {
        "id": "aiwQ4K8nIbjS"
      }
    },
    {
      "cell_type": "markdown",
      "source": [
        " 資料集：1 0 2 年 度 公 民 營 汽 車 駕 駛 人\n",
        "訓 練 機 構 小 型 車 駕 駛 教 練 訓 練 交通法規"
      ],
      "metadata": {
        "id": "l_3oWUJsV7oU"
      }
    },
    {
      "cell_type": "markdown",
      "source": [
        "### 解壓縮向量資料庫"
      ],
      "metadata": {
        "id": "VucEhWUYV-Rj"
      }
    },
    {
      "cell_type": "code",
      "source": [
        "URL = \"https://drive.google.com/uc?export=download&id=1RtzdqVpoNbzSI0EnE-OZNxBjK3dEVtYE\"\n",
        "\n",
        "!wget -O faiss_db.zip \"$URL\""
      ],
      "metadata": {
        "id": "NrahCainV3_N"
      },
      "execution_count": null,
      "outputs": []
    },
    {
      "cell_type": "code",
      "source": [
        "!unzip faiss_db.zip"
      ],
      "metadata": {
        "id": "9zpiPgJ_WBzv"
      },
      "execution_count": null,
      "outputs": []
    },
    {
      "cell_type": "code",
      "source": [
        "!pip install -U langchain langchain-community sentence-transformers faiss-cpu gradio openai"
      ],
      "metadata": {
        "id": "HQb0oGZYWFDV"
      },
      "execution_count": null,
      "outputs": []
    },
    {
      "cell_type": "code",
      "source": [
        "from langchain_community.vectorstores import FAISS\n",
        "from langchain_community.embeddings import HuggingFaceEmbeddings\n",
        "from langchain.chat_models import ChatOpenAI\n",
        "from langchain.chains import ConversationalRetrievalChain"
      ],
      "metadata": {
        "id": "KRVjChlaWI3-"
      },
      "execution_count": null,
      "outputs": []
    },
    {
      "cell_type": "code",
      "source": [
        "from openai import OpenAI\n",
        "import gradio as gr"
      ],
      "metadata": {
        "id": "8J16UYgnWCeF"
      },
      "execution_count": null,
      "outputs": []
    },
    {
      "cell_type": "code",
      "source": [
        "class CustomE5Embedding(HuggingFaceEmbeddings):\n",
        "    def embed_documents(self, texts):\n",
        "        texts = [f\"passage: {t}\" for t in texts]\n",
        "        return super().embed_documents(texts)\n",
        "\n",
        "    def embed_query(self, text):\n",
        "        return super().embed_query(f\"query: {text}\")"
      ],
      "metadata": {
        "id": "phlNxQ7-WCbG"
      },
      "execution_count": null,
      "outputs": []
    },
    {
      "cell_type": "markdown",
      "source": [
        "載入 faiss_db"
      ],
      "metadata": {
        "id": "p0nv45chXUHK"
      }
    },
    {
      "cell_type": "code",
      "source": [
        "embedding_model = CustomE5Embedding(model_name=\"intfloat/multilingual-e5-small\")\n",
        "db = FAISS.load_local(\"faiss_db\", embedding_model, allow_dangerous_deserialization=True)\n",
        "retriever = db.as_retriever()"
      ],
      "metadata": {
        "id": "aapHppOvXU1c"
      },
      "execution_count": null,
      "outputs": []
    },
    {
      "cell_type": "markdown",
      "source": [
        "設定好我們要的 LLM"
      ],
      "metadata": {
        "id": "LMkwqLqbWVL0"
      }
    },
    {
      "cell_type": "code",
      "source": [
        "import os\n",
        "from google.colab import userdata"
      ],
      "metadata": {
        "id": "Z0h8_-phWSVP"
      },
      "execution_count": null,
      "outputs": []
    },
    {
      "cell_type": "markdown",
      "source": [
        "金鑰那邊設定完後"
      ],
      "metadata": {
        "id": "y8UCKwbyWZwa"
      }
    },
    {
      "cell_type": "code",
      "source": [
        "api_key = userdata.get('Gemini')"
      ],
      "metadata": {
        "id": "pR6c5XgFWco7"
      },
      "execution_count": null,
      "outputs": []
    },
    {
      "cell_type": "code",
      "source": [
        "# 先測試一下 Gemini 的使用\n",
        "\n",
        "from google import genai\n",
        "\n",
        "client = genai.Client(api_key=api_key)\n",
        "\n",
        "response = client.models.generate_content(\n",
        "    model=\"gemini-2.0-flash\", contents=\"Hello\"\n",
        ")\n",
        "print(response.text)"
      ],
      "metadata": {
        "id": "WMS83JacWcrb"
      },
      "execution_count": null,
      "outputs": []
    },
    {
      "cell_type": "code",
      "source": [
        "system_prompt = \"你是台灣交通法規的專家，請全程使用繁體中文回答問題\"\n",
        "\n",
        "prompt_template = \"\"\"\n",
        "根據下列資料回答問題：\n",
        "{retrieved_chunks}\n",
        "\n",
        "使用者的問題是：{question}\n",
        "\n",
        "請根據資料內容回覆，若資料不足請告訴同學可以請他打電話去諮詢交通部\n",
        "\"\"\""
      ],
      "metadata": {
        "id": "8qN7lnVOWgOM"
      },
      "execution_count": null,
      "outputs": []
    },
    {
      "cell_type": "markdown",
      "source": [
        "### 使用 RAG 來回應\n",
        "\n",
        "搜尋與使用者問題相關的資訊，根據我們的 prompt 樣版去讓 LLM 回應。"
      ],
      "metadata": {
        "id": "3XEXhBDTWldH"
      }
    },
    {
      "cell_type": "code",
      "source": [
        "chat_history = []\n",
        "\n",
        "def chat_with_rag(user_input):\n",
        "    global chat_history\n",
        "\n",
        "    # 🔍 1. 從向量資料庫取回相關文件\n",
        "    docs = retriever.get_relevant_documents(user_input)\n",
        "    retrieved_chunks = \"\\n\\n\".join([doc.page_content for doc in docs])\n",
        "\n",
        "    # 🧠 2. 自訂 Prompt（你需要先定義 prompt_template 和 system_prompt）\n",
        "    final_prompt = prompt_template.format(retrieved_chunks=retrieved_chunks, question=user_input)\n",
        "\n",
        "    combined_prompt = f\"{system_prompt}\\n\\n{final_prompt}\"\n",
        "\n",
        "    response = client.models.generate_content(\n",
        "        model=\"gemini-2.0-flash\",\n",
        "        contents=[\n",
        "            {\n",
        "                \"role\": \"user\",\n",
        "                \"parts\": [{\"text\": combined_prompt}]\n",
        "            }\n",
        "        ]\n",
        "    )\n",
        "\n",
        "    if response.candidates and response.candidates[0].content.parts:\n",
        "        answer = response.candidates[0].content.parts[0].text\n",
        "    else:\n",
        "        return \"No valid response received from the API.\"\n",
        "\n",
        "    chat_history.append((user_input, answer))\n",
        "    print(\"Chat history:\", chat_history)\n",
        "\n",
        "    return answer\n"
      ],
      "metadata": {
        "id": "lNWNgfVeWgJd"
      },
      "execution_count": null,
      "outputs": []
    },
    {
      "cell_type": "markdown",
      "source": [
        "### 用 Gradio 打造 Web App"
      ],
      "metadata": {
        "id": "tFFB8qlcWsvd"
      }
    },
    {
      "cell_type": "code",
      "source": [
        "import gradio as gr\n",
        "\n",
        "with gr.Blocks() as demo:\n",
        "    gr.Markdown(\"# 🎓 AI 交通法規大王\")\n",
        "    chatbot = gr.Chatbot()\n",
        "    msg = gr.Textbox(placeholder=\"請輸入你的問題...\")\n",
        "\n",
        "    def respond(message, chat_history_local):\n",
        "        response = chat_with_rag(message)\n",
        "        chat_history_local.append((message, response))\n",
        "        return \"\", chat_history_local\n",
        "\n",
        "    msg.submit(respond, [msg, chatbot], [msg, chatbot])\n",
        "\n",
        "demo.launch(debug=True)"
      ],
      "metadata": {
        "id": "j95hsMeqWtEZ"
      },
      "execution_count": null,
      "outputs": []
    }
  ]
}